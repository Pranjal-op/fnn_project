{
 "cells": [
  {
   "cell_type": "markdown",
   "id": "b85b0148",
   "metadata": {},
   "source": [
    "# Imports"
   ]
  },
  {
   "cell_type": "code",
   "execution_count": 1,
   "id": "501e3b6f",
   "metadata": {},
   "outputs": [],
   "source": [
    "import pandas as pd\n",
    "import os\n",
    "import numpy as np\n",
    "import tensorflow as tf\n",
    "from tensorflow import keras\n",
    "from tensorflow.keras import layers\n",
    "tf.config.run_functions_eagerly(True)\n",
    "from sklearn.preprocessing import StandardScaler"
   ]
  },
  {
   "cell_type": "markdown",
   "id": "8644c6cc",
   "metadata": {},
   "source": [
    "# Creating Directory "
   ]
  },
  {
   "cell_type": "code",
   "execution_count": 2,
   "id": "77c97457",
   "metadata": {},
   "outputs": [
    {
     "name": "stdout",
     "output_type": "stream",
     "text": [
      "['D:\\\\Programming\\\\python\\\\my_ai_lab\\\\dataset\\\\PEMS\\\\train', 'D:\\\\Programming\\\\python\\\\my_ai_lab\\\\dataset\\\\PEMS\\\\validate', 'D:\\\\Programming\\\\python\\\\my_ai_lab\\\\dataset\\\\PEMS\\\\test']\n"
     ]
    }
   ],
   "source": [
    "parent_dir = \"D:\\Programming\\python\\my_ai_lab\\dataset\\PEMS\"\n",
    "directory = [\"train\",\"validate\",\"test\"]\n",
    "data_dir = []\n",
    "\n",
    "for dir in directory:\n",
    "    path = os.path.join(parent_dir, dir)\n",
    "    data_dir.append(path)\n",
    "    os.makedirs(path, exist_ok = True)\n",
    "print(data_dir)"
   ]
  },
  {
   "cell_type": "markdown",
   "id": "f4fad7c3",
   "metadata": {},
   "source": [
    "# Data Loading"
   ]
  },
  {
   "cell_type": "code",
   "execution_count": 3,
   "id": "9a55896b",
   "metadata": {},
   "outputs": [],
   "source": [
    "train_file_name = [\"gt_2011.csv\",\"gt_2012.csv\",\"gt_2013.csv\",\"gt_2014.csv\",\"gt_2015.csv\"]\n",
    "#reading 5 file into single data frame\n",
    "\n",
    "\n",
    "\n",
    "def data_loader_from_multiple_file(filename, filedir):\n",
    "    data_pd = None\n",
    "    frames = []\n",
    "    for file in train_file_name:\n",
    "        file = os.path.join(parent_dir,file)\n",
    "        read_file = pd.read_csv (file)\n",
    "        frames.append(read_file)\n",
    "\n",
    "        data_pd = pd.concat(frames,axis = 0)\n",
    "    return data_pd\n",
    "\n",
    "data_pd = data_loader_from_multiple_file(train_file_name, parent_dir)\n",
    "\n",
    "columns = [col for col in data_pd.columns]"
   ]
  },
  {
   "cell_type": "code",
   "execution_count": 4,
   "id": "8b9e3daf",
   "metadata": {},
   "outputs": [],
   "source": [
    "def shuffle(data,no_of_shuffle=100):\n",
    "    data_tf = tf.convert_to_tensor(data)\n",
    "    for i in range(no_of_shuffle):\n",
    "        data_tf = tf.random.shuffle(data_tf, seed = 42)\n",
    "    return pd.DataFrame(data = data_tf)\n",
    "\n",
    "shuffled_data_pd = shuffle(data_pd,100)\n"
   ]
  },
  {
   "cell_type": "markdown",
   "id": "1703703b",
   "metadata": {},
   "source": [
    "# Data splitting"
   ]
  },
  {
   "cell_type": "code",
   "execution_count": 5,
   "id": "42cbcadd",
   "metadata": {},
   "outputs": [],
   "source": [
    "data_np = shuffled_data_pd.to_numpy()\n",
    "train_np, val_np, test_np = np.split(data_np, [int(0.8*len(data_np)), int(0.9*len(data_np))])"
   ]
  },
  {
   "cell_type": "code",
   "execution_count": 6,
   "id": "3527fa21",
   "metadata": {},
   "outputs": [],
   "source": [
    "train_pd = pd.DataFrame(data = train_np,columns = columns)\n",
    "\n",
    "val_pd = pd.DataFrame(data = val_np,columns = columns)\n",
    "test_pd = pd.DataFrame(data = test_np,columns = columns)\n"
   ]
  },
  {
   "cell_type": "code",
   "execution_count": 7,
   "id": "f2cba9f6",
   "metadata": {},
   "outputs": [],
   "source": [
    "X_train_pd = train_pd.drop(columns = 'NOX',)\n",
    "y_train_pd = train_pd.iloc[:,10:]\n",
    "\n",
    "X_val_pd = val_pd.drop(columns = 'NOX',)\n",
    "y_val_pd = val_pd.iloc[:,10:]\n",
    "\n",
    "X_test_pd = test_pd.drop(columns = 'NOX',)\n",
    "y_test_pd = test_pd.iloc[:,10:]"
   ]
  },
  {
   "cell_type": "code",
   "execution_count": 8,
   "id": "311b30ff",
   "metadata": {},
   "outputs": [],
   "source": [
    "X_train_np = X_train_pd.to_numpy()\n",
    "y_train_np = y_train_pd.to_numpy()\n",
    "\n",
    "X_val_np = X_val_pd.to_numpy()\n",
    "y_val_np = y_val_pd.to_numpy()\n",
    "\n",
    "X_test_np = X_test_pd.to_numpy()\n",
    "y_test_np = y_test_pd.to_numpy()"
   ]
  },
  {
   "cell_type": "markdown",
   "id": "817b2b39",
   "metadata": {},
   "source": [
    "# Data preprocessing"
   ]
  },
  {
   "cell_type": "code",
   "execution_count": 9,
   "id": "46a4e65b",
   "metadata": {},
   "outputs": [
    {
     "data": {
      "text/html": [
       "<style>#sk-container-id-1 {color: black;background-color: white;}#sk-container-id-1 pre{padding: 0;}#sk-container-id-1 div.sk-toggleable {background-color: white;}#sk-container-id-1 label.sk-toggleable__label {cursor: pointer;display: block;width: 100%;margin-bottom: 0;padding: 0.3em;box-sizing: border-box;text-align: center;}#sk-container-id-1 label.sk-toggleable__label-arrow:before {content: \"▸\";float: left;margin-right: 0.25em;color: #696969;}#sk-container-id-1 label.sk-toggleable__label-arrow:hover:before {color: black;}#sk-container-id-1 div.sk-estimator:hover label.sk-toggleable__label-arrow:before {color: black;}#sk-container-id-1 div.sk-toggleable__content {max-height: 0;max-width: 0;overflow: hidden;text-align: left;background-color: #f0f8ff;}#sk-container-id-1 div.sk-toggleable__content pre {margin: 0.2em;color: black;border-radius: 0.25em;background-color: #f0f8ff;}#sk-container-id-1 input.sk-toggleable__control:checked~div.sk-toggleable__content {max-height: 200px;max-width: 100%;overflow: auto;}#sk-container-id-1 input.sk-toggleable__control:checked~label.sk-toggleable__label-arrow:before {content: \"▾\";}#sk-container-id-1 div.sk-estimator input.sk-toggleable__control:checked~label.sk-toggleable__label {background-color: #d4ebff;}#sk-container-id-1 div.sk-label input.sk-toggleable__control:checked~label.sk-toggleable__label {background-color: #d4ebff;}#sk-container-id-1 input.sk-hidden--visually {border: 0;clip: rect(1px 1px 1px 1px);clip: rect(1px, 1px, 1px, 1px);height: 1px;margin: -1px;overflow: hidden;padding: 0;position: absolute;width: 1px;}#sk-container-id-1 div.sk-estimator {font-family: monospace;background-color: #f0f8ff;border: 1px dotted black;border-radius: 0.25em;box-sizing: border-box;margin-bottom: 0.5em;}#sk-container-id-1 div.sk-estimator:hover {background-color: #d4ebff;}#sk-container-id-1 div.sk-parallel-item::after {content: \"\";width: 100%;border-bottom: 1px solid gray;flex-grow: 1;}#sk-container-id-1 div.sk-label:hover label.sk-toggleable__label {background-color: #d4ebff;}#sk-container-id-1 div.sk-serial::before {content: \"\";position: absolute;border-left: 1px solid gray;box-sizing: border-box;top: 0;bottom: 0;left: 50%;z-index: 0;}#sk-container-id-1 div.sk-serial {display: flex;flex-direction: column;align-items: center;background-color: white;padding-right: 0.2em;padding-left: 0.2em;position: relative;}#sk-container-id-1 div.sk-item {position: relative;z-index: 1;}#sk-container-id-1 div.sk-parallel {display: flex;align-items: stretch;justify-content: center;background-color: white;position: relative;}#sk-container-id-1 div.sk-item::before, #sk-container-id-1 div.sk-parallel-item::before {content: \"\";position: absolute;border-left: 1px solid gray;box-sizing: border-box;top: 0;bottom: 0;left: 50%;z-index: -1;}#sk-container-id-1 div.sk-parallel-item {display: flex;flex-direction: column;z-index: 1;position: relative;background-color: white;}#sk-container-id-1 div.sk-parallel-item:first-child::after {align-self: flex-end;width: 50%;}#sk-container-id-1 div.sk-parallel-item:last-child::after {align-self: flex-start;width: 50%;}#sk-container-id-1 div.sk-parallel-item:only-child::after {width: 0;}#sk-container-id-1 div.sk-dashed-wrapped {border: 1px dashed gray;margin: 0 0.4em 0.5em 0.4em;box-sizing: border-box;padding-bottom: 0.4em;background-color: white;}#sk-container-id-1 div.sk-label label {font-family: monospace;font-weight: bold;display: inline-block;line-height: 1.2em;}#sk-container-id-1 div.sk-label-container {text-align: center;}#sk-container-id-1 div.sk-container {/* jupyter's `normalize.less` sets `[hidden] { display: none; }` but bootstrap.min.css set `[hidden] { display: none !important; }` so we also need the `!important` here to be able to override the default hidden behavior on the sphinx rendered scikit-learn.org. See: https://github.com/scikit-learn/scikit-learn/issues/21755 */display: inline-block !important;position: relative;}#sk-container-id-1 div.sk-text-repr-fallback {display: none;}</style><div id=\"sk-container-id-1\" class=\"sk-top-container\"><div class=\"sk-text-repr-fallback\"><pre>StandardScaler()</pre><b>In a Jupyter environment, please rerun this cell to show the HTML representation or trust the notebook. <br />On GitHub, the HTML representation is unable to render, please try loading this page with nbviewer.org.</b></div><div class=\"sk-container\" hidden><div class=\"sk-item\"><div class=\"sk-estimator sk-toggleable\"><input class=\"sk-toggleable__control sk-hidden--visually\" id=\"sk-estimator-id-1\" type=\"checkbox\" checked><label for=\"sk-estimator-id-1\" class=\"sk-toggleable__label sk-toggleable__label-arrow\">StandardScaler</label><div class=\"sk-toggleable__content\"><pre>StandardScaler()</pre></div></div></div></div></div>"
      ],
      "text/plain": [
       "StandardScaler()"
      ]
     },
     "execution_count": 9,
     "metadata": {},
     "output_type": "execute_result"
    }
   ],
   "source": [
    "scaler_x = StandardScaler()\n",
    "scaler_y = StandardScaler()\n",
    "\n",
    "scaler_x.fit(X_train_np)\n",
    "scaler_y.fit(y_train_np)\n"
   ]
  },
  {
   "cell_type": "code",
   "execution_count": 10,
   "id": "a60d5d42",
   "metadata": {},
   "outputs": [
    {
     "data": {
      "text/plain": [
       "(3674, 1)"
      ]
     },
     "execution_count": 10,
     "metadata": {},
     "output_type": "execute_result"
    }
   ],
   "source": [
    "X_train_np = scaler_x.transform(X_train_np)\n",
    "y_train_np = scaler_y.transform(y_train_np)\n",
    "\n",
    "X_val_np = scaler_x.transform(X_val_np)\n",
    "y_val_np = scaler_y.transform(y_val_np)\n",
    "\n",
    "X_test_np = scaler_x.transform(X_test_np)\n",
    "y_test_np = scaler_y.transform(y_test_np)\n",
    "\n",
    "y_test_np.shape"
   ]
  },
  {
   "cell_type": "markdown",
   "id": "36715517",
   "metadata": {},
   "source": [
    "# Feed forward model"
   ]
  },
  {
   "cell_type": "code",
   "execution_count": 11,
   "id": "b4ee6eab",
   "metadata": {},
   "outputs": [],
   "source": [
    "def pems_model():\n",
    "  \n",
    "    initializer = keras.initializers.HeNormal(seed = 42)\n",
    "    model = tf.keras.Sequential([\n",
    "    \n",
    "    keras.layers.InputLayer(input_shape = [None, 10]),\n",
    "    keras.layers.Dense(64,kernel_initializer=initializer, activation='elu'),\n",
    "    keras.layers.Dropout(0.20),\n",
    "    #tf.keras.layers.LayerNormalization(axis=1),\n",
    "    keras.layers.Dense(64 ,kernel_initializer=initializer, activation='elu'),\n",
    "    keras.layers.Dropout(0.20),\n",
    "    #keras.layers.Dense(64 ,kernel_initializer=initializer, activation='elu'),\n",
    "    #keras.layers.Dropout(0.20),\n",
    "    #tf.keras.layers.LayerNormalization(axis=1),\n",
    "    keras.layers.Dense(1, kernel_initializer=initializer ,activation='elu')\n",
    "  ])\n",
    "\n",
    "\n",
    "    optimizer = keras.optimizers.SGD(learning_rate=0.0001,momentum = 0.9)\n",
    "    loss = keras.losses.MeanSquaredError()\n",
    "\n",
    "\n",
    "    model.compile(loss= loss, optimizer= optimizer)\n",
    "    return model\n",
    "\n",
    "pems_model = pems_model()"
   ]
  },
  {
   "cell_type": "code",
   "execution_count": 12,
   "id": "1cc08e47",
   "metadata": {},
   "outputs": [
    {
     "name": "stdout",
     "output_type": "stream",
     "text": [
      "Model: \"sequential\"\n",
      "_________________________________________________________________\n",
      " Layer (type)                Output Shape              Param #   \n",
      "=================================================================\n",
      " dense (Dense)               (None, None, 64)          704       \n",
      "                                                                 \n",
      " dropout (Dropout)           (None, None, 64)          0         \n",
      "                                                                 \n",
      " dense_1 (Dense)             (None, None, 64)          4160      \n",
      "                                                                 \n",
      " dropout_1 (Dropout)         (None, None, 64)          0         \n",
      "                                                                 \n",
      " dense_2 (Dense)             (None, None, 1)           65        \n",
      "                                                                 \n",
      "=================================================================\n",
      "Total params: 4,929\n",
      "Trainable params: 4,929\n",
      "Non-trainable params: 0\n",
      "_________________________________________________________________\n"
     ]
    }
   ],
   "source": [
    "pems_model.summary()"
   ]
  },
  {
   "cell_type": "code",
   "execution_count": 13,
   "id": "748c408b",
   "metadata": {},
   "outputs": [],
   "source": [
    "# Define some useful callbacks\n",
    "#Reduce learning rate when a metric has stopped improving.\n",
    "reducelrp = keras.callbacks.ReduceLROnPlateau(monitor='val_loss', factor=0.1, patience=5, verbose=0, mode='auto', min_delta=0.001, cooldown=0, min_lr=0.000000001)\n",
    "# Stop training when a monitored quantity has stopped improving. \n",
    "# By default, mode is set to ‘auto‘ and knows that you want to minimize loss or maximize accuracy.\n",
    "early_stopping_monitor=keras.callbacks.EarlyStopping(monitor='val_loss',verbose=1, patience=10, baseline=0.4,min_delta = 0.001 )\n",
    "# Save the model after every epoch.\n",
    "best_trained_model_file= 'pems_model.h5'\n",
    "checkpoint = keras.callbacks.ModelCheckpoint(best_trained_model_file, verbose=0, monitor='val_loss',save_best_only=True, mode='auto')  \n",
    "#place callbacks want to enable on this list\n",
    "callbacks= [checkpoint,reducelrp, checkpoint] #[checkpoint,"
   ]
  },
  {
   "cell_type": "code",
   "execution_count": 14,
   "id": "c66debb1",
   "metadata": {},
   "outputs": [
    {
     "name": "stdout",
     "output_type": "stream",
     "text": [
      "Epoch 1/100\n"
     ]
    },
    {
     "name": "stderr",
     "output_type": "stream",
     "text": [
      "D:\\Programming\\python\\my_ai_lab\\lib\\site-packages\\tensorflow\\python\\data\\ops\\structured_function.py:264: UserWarning: Even though the `tf.config.experimental_run_functions_eagerly` option is set, this option does not apply to tf.data functions. To force eager execution of tf.data functions, please use `tf.data.experimental.enable_debug_mode()`.\n",
      "  warnings.warn(\n"
     ]
    },
    {
     "name": "stdout",
     "output_type": "stream",
     "text": [
      "919/919 [==============================] - 17s 19ms/step - loss: 1.0330 - val_loss: 0.5457 - lr: 1.0000e-04\n",
      "Epoch 2/100\n",
      "919/919 [==============================] - 16s 18ms/step - loss: 0.6774 - val_loss: 0.4371 - lr: 1.0000e-04\n",
      "Epoch 3/100\n",
      "919/919 [==============================] - 18s 19ms/step - loss: 0.5546 - val_loss: 0.4027 - lr: 1.0000e-04\n",
      "Epoch 4/100\n",
      "919/919 [==============================] - 13s 14ms/step - loss: 0.5008 - val_loss: 0.3867 - lr: 1.0000e-04\n",
      "Epoch 5/100\n",
      "919/919 [==============================] - 14s 15ms/step - loss: 0.4793 - val_loss: 0.3767 - lr: 1.0000e-04\n",
      "Epoch 6/100\n",
      "919/919 [==============================] - 12s 14ms/step - loss: 0.4650 - val_loss: 0.3698 - lr: 1.0000e-04\n",
      "Epoch 7/100\n",
      "919/919 [==============================] - 12s 14ms/step - loss: 0.4568 - val_loss: 0.3655 - lr: 1.0000e-04\n",
      "Epoch 8/100\n",
      "919/919 [==============================] - 12s 13ms/step - loss: 0.4493 - val_loss: 0.3600 - lr: 1.0000e-04\n",
      "Epoch 9/100\n",
      "919/919 [==============================] - 12s 13ms/step - loss: 0.4392 - val_loss: 0.3529 - lr: 1.0000e-04\n",
      "Epoch 10/100\n",
      "919/919 [==============================] - 13s 14ms/step - loss: 0.4386 - val_loss: 0.3519 - lr: 1.0000e-04\n",
      "Epoch 11/100\n",
      "919/919 [==============================] - 13s 14ms/step - loss: 0.4304 - val_loss: 0.3472 - lr: 1.0000e-04\n",
      "Epoch 12/100\n",
      "919/919 [==============================] - 12s 13ms/step - loss: 0.4251 - val_loss: 0.3405 - lr: 1.0000e-04\n",
      "Epoch 13/100\n",
      "919/919 [==============================] - 11s 12ms/step - loss: 0.4174 - val_loss: 0.3426 - lr: 1.0000e-04\n",
      "Epoch 14/100\n",
      "919/919 [==============================] - 12s 14ms/step - loss: 0.4133 - val_loss: 0.3378 - lr: 1.0000e-04\n",
      "Epoch 15/100\n",
      "919/919 [==============================] - 13s 14ms/step - loss: 0.4097 - val_loss: 0.3325 - lr: 1.0000e-04\n",
      "Epoch 16/100\n",
      "919/919 [==============================] - 12s 13ms/step - loss: 0.4144 - val_loss: 0.3320 - lr: 1.0000e-04\n",
      "Epoch 17/100\n",
      "919/919 [==============================] - 13s 14ms/step - loss: 0.4060 - val_loss: 0.3285 - lr: 1.0000e-04\n",
      "Epoch 18/100\n",
      "919/919 [==============================] - 11s 12ms/step - loss: 0.3993 - val_loss: 0.3255 - lr: 1.0000e-04\n",
      "Epoch 19/100\n",
      "919/919 [==============================] - 13s 14ms/step - loss: 0.3947 - val_loss: 0.3242 - lr: 1.0000e-04\n",
      "Epoch 20/100\n",
      "919/919 [==============================] - 12s 13ms/step - loss: 0.3975 - val_loss: 0.3253 - lr: 1.0000e-04\n",
      "Epoch 21/100\n",
      "919/919 [==============================] - 12s 13ms/step - loss: 0.3942 - val_loss: 0.3199 - lr: 1.0000e-04\n",
      "Epoch 22/100\n",
      "919/919 [==============================] - 12s 13ms/step - loss: 0.3947 - val_loss: 0.3193 - lr: 1.0000e-04\n",
      "Epoch 23/100\n",
      "919/919 [==============================] - 12s 13ms/step - loss: 0.3882 - val_loss: 0.3211 - lr: 1.0000e-04\n",
      "Epoch 24/100\n",
      "919/919 [==============================] - 12s 13ms/step - loss: 0.3898 - val_loss: 0.3182 - lr: 1.0000e-04\n",
      "Epoch 25/100\n",
      "919/919 [==============================] - 12s 13ms/step - loss: 0.3854 - val_loss: 0.3143 - lr: 1.0000e-04\n",
      "Epoch 26/100\n",
      "919/919 [==============================] - 12s 13ms/step - loss: 0.3864 - val_loss: 0.3139 - lr: 1.0000e-04\n",
      "Epoch 27/100\n",
      "919/919 [==============================] - 12s 13ms/step - loss: 0.3842 - val_loss: 0.3117 - lr: 1.0000e-04\n",
      "Epoch 28/100\n",
      "919/919 [==============================] - 13s 14ms/step - loss: 0.3772 - val_loss: 0.3094 - lr: 1.0000e-04\n",
      "Epoch 29/100\n",
      "919/919 [==============================] - 12s 13ms/step - loss: 0.3733 - val_loss: 0.3092 - lr: 1.0000e-04\n",
      "Epoch 30/100\n",
      "919/919 [==============================] - 12s 13ms/step - loss: 0.3766 - val_loss: 0.3084 - lr: 1.0000e-04\n",
      "Epoch 31/100\n",
      "919/919 [==============================] - 12s 13ms/step - loss: 0.3763 - val_loss: 0.3085 - lr: 1.0000e-04\n",
      "Epoch 32/100\n",
      "919/919 [==============================] - 12s 13ms/step - loss: 0.3752 - val_loss: 0.3065 - lr: 1.0000e-04\n",
      "Epoch 33/100\n",
      "919/919 [==============================] - 12s 13ms/step - loss: 0.3707 - val_loss: 0.3061 - lr: 1.0000e-04\n",
      "Epoch 34/100\n",
      "919/919 [==============================] - 12s 13ms/step - loss: 0.3731 - val_loss: 0.3039 - lr: 1.0000e-04\n",
      "Epoch 35/100\n",
      "919/919 [==============================] - 13s 14ms/step - loss: 0.3724 - val_loss: 0.3028 - lr: 1.0000e-04\n",
      "Epoch 36/100\n",
      "919/919 [==============================] - 13s 14ms/step - loss: 0.3695 - val_loss: 0.3017 - lr: 1.0000e-04\n",
      "Epoch 37/100\n",
      "919/919 [==============================] - 13s 14ms/step - loss: 0.3696 - val_loss: 0.3012 - lr: 1.0000e-04\n",
      "Epoch 38/100\n",
      "919/919 [==============================] - 12s 13ms/step - loss: 0.3656 - val_loss: 0.2999 - lr: 1.0000e-04\n",
      "Epoch 39/100\n",
      "919/919 [==============================] - 12s 13ms/step - loss: 0.3639 - val_loss: 0.2993 - lr: 1.0000e-04\n",
      "Epoch 40/100\n",
      "919/919 [==============================] - 12s 13ms/step - loss: 0.3634 - val_loss: 0.2993 - lr: 1.0000e-04\n",
      "Epoch 41/100\n",
      "919/919 [==============================] - 12s 13ms/step - loss: 0.3644 - val_loss: 0.3003 - lr: 1.0000e-04\n",
      "Epoch 42/100\n",
      "919/919 [==============================] - 13s 14ms/step - loss: 0.3612 - val_loss: 0.2969 - lr: 1.0000e-04\n",
      "Epoch 43/100\n",
      "919/919 [==============================] - 12s 13ms/step - loss: 0.3607 - val_loss: 0.2956 - lr: 1.0000e-04\n",
      "Epoch 44/100\n",
      "919/919 [==============================] - 13s 14ms/step - loss: 0.3590 - val_loss: 0.2958 - lr: 1.0000e-04\n",
      "Epoch 45/100\n",
      "919/919 [==============================] - 12s 13ms/step - loss: 0.3576 - val_loss: 0.2940 - lr: 1.0000e-04\n",
      "Epoch 46/100\n",
      "919/919 [==============================] - 12s 13ms/step - loss: 0.3575 - val_loss: 0.2942 - lr: 1.0000e-04\n",
      "Epoch 47/100\n",
      "919/919 [==============================] - 12s 13ms/step - loss: 0.3555 - val_loss: 0.2944 - lr: 1.0000e-04\n",
      "Epoch 48/100\n",
      "919/919 [==============================] - 12s 13ms/step - loss: 0.3569 - val_loss: 0.2931 - lr: 1.0000e-04\n",
      "Epoch 49/100\n",
      "919/919 [==============================] - 12s 13ms/step - loss: 0.3544 - val_loss: 0.2925 - lr: 1.0000e-04\n",
      "Epoch 50/100\n",
      "919/919 [==============================] - 13s 14ms/step - loss: 0.3510 - val_loss: 0.2886 - lr: 1.0000e-04\n",
      "Epoch 51/100\n",
      "919/919 [==============================] - 12s 13ms/step - loss: 0.3484 - val_loss: 0.2889 - lr: 1.0000e-04\n",
      "Epoch 52/100\n",
      "919/919 [==============================] - 12s 13ms/step - loss: 0.3499 - val_loss: 0.2889 - lr: 1.0000e-04\n",
      "Epoch 53/100\n",
      "919/919 [==============================] - 12s 13ms/step - loss: 0.3492 - val_loss: 0.2879 - lr: 1.0000e-04\n",
      "Epoch 54/100\n",
      "919/919 [==============================] - 12s 13ms/step - loss: 0.3513 - val_loss: 0.2880 - lr: 1.0000e-04\n",
      "Epoch 55/100\n",
      "919/919 [==============================] - 12s 13ms/step - loss: 0.3485 - val_loss: 0.2901 - lr: 1.0000e-04\n",
      "Epoch 56/100\n",
      "919/919 [==============================] - 12s 13ms/step - loss: 0.3444 - val_loss: 0.2862 - lr: 1.0000e-05\n",
      "Epoch 57/100\n",
      "919/919 [==============================] - 12s 13ms/step - loss: 0.3450 - val_loss: 0.2859 - lr: 1.0000e-05\n",
      "Epoch 58/100\n",
      "919/919 [==============================] - 12s 13ms/step - loss: 0.3442 - val_loss: 0.2857 - lr: 1.0000e-05\n",
      "Epoch 59/100\n",
      "919/919 [==============================] - 12s 13ms/step - loss: 0.3452 - val_loss: 0.2858 - lr: 1.0000e-05\n",
      "Epoch 60/100\n",
      "919/919 [==============================] - 12s 13ms/step - loss: 0.3479 - val_loss: 0.2858 - lr: 1.0000e-05\n",
      "Epoch 61/100\n",
      "919/919 [==============================] - 12s 13ms/step - loss: 0.3462 - val_loss: 0.2855 - lr: 1.0000e-05\n",
      "Epoch 62/100\n",
      "919/919 [==============================] - 13s 14ms/step - loss: 0.3434 - val_loss: 0.2855 - lr: 1.0000e-06\n",
      "Epoch 63/100\n",
      "919/919 [==============================] - 12s 13ms/step - loss: 0.3457 - val_loss: 0.2855 - lr: 1.0000e-06\n",
      "Epoch 64/100\n",
      "919/919 [==============================] - 12s 13ms/step - loss: 0.3454 - val_loss: 0.2855 - lr: 1.0000e-06\n",
      "Epoch 65/100\n",
      "919/919 [==============================] - 12s 13ms/step - loss: 0.3438 - val_loss: 0.2855 - lr: 1.0000e-06\n",
      "Epoch 66/100\n",
      "919/919 [==============================] - 12s 13ms/step - loss: 0.3439 - val_loss: 0.2855 - lr: 1.0000e-06\n",
      "Epoch 67/100\n",
      "919/919 [==============================] - 12s 13ms/step - loss: 0.3456 - val_loss: 0.2855 - lr: 1.0000e-07\n",
      "Epoch 68/100\n",
      "919/919 [==============================] - 13s 14ms/step - loss: 0.3490 - val_loss: 0.2855 - lr: 1.0000e-07\n"
     ]
    },
    {
     "name": "stdout",
     "output_type": "stream",
     "text": [
      "Epoch 69/100\n",
      "919/919 [==============================] - 15s 16ms/step - loss: 0.3473 - val_loss: 0.2855 - lr: 1.0000e-07\n",
      "Epoch 70/100\n",
      "919/919 [==============================] - 12s 13ms/step - loss: 0.3446 - val_loss: 0.2855 - lr: 1.0000e-07\n",
      "Epoch 71/100\n",
      "919/919 [==============================] - 12s 13ms/step - loss: 0.3472 - val_loss: 0.2855 - lr: 1.0000e-07\n",
      "Epoch 72/100\n",
      "919/919 [==============================] - 12s 13ms/step - loss: 0.3448 - val_loss: 0.2855 - lr: 1.0000e-08\n",
      "Epoch 73/100\n",
      "919/919 [==============================] - 12s 13ms/step - loss: 0.3468 - val_loss: 0.2855 - lr: 1.0000e-08\n",
      "Epoch 74/100\n",
      "919/919 [==============================] - 12s 13ms/step - loss: 0.3442 - val_loss: 0.2855 - lr: 1.0000e-08\n",
      "Epoch 75/100\n",
      "919/919 [==============================] - 12s 13ms/step - loss: 0.3477 - val_loss: 0.2855 - lr: 1.0000e-08\n",
      "Epoch 76/100\n",
      "919/919 [==============================] - 12s 13ms/step - loss: 0.3471 - val_loss: 0.2855 - lr: 1.0000e-08\n",
      "Epoch 77/100\n",
      "919/919 [==============================] - 12s 13ms/step - loss: 0.3453 - val_loss: 0.2855 - lr: 1.0000e-09\n",
      "Epoch 78/100\n",
      "919/919 [==============================] - 12s 13ms/step - loss: 0.3439 - val_loss: 0.2855 - lr: 1.0000e-09\n",
      "Epoch 79/100\n",
      "919/919 [==============================] - 12s 13ms/step - loss: 0.3424 - val_loss: 0.2855 - lr: 1.0000e-09\n",
      "Epoch 80/100\n",
      "919/919 [==============================] - 12s 13ms/step - loss: 0.3423 - val_loss: 0.2855 - lr: 1.0000e-09\n",
      "Epoch 81/100\n",
      "919/919 [==============================] - 12s 13ms/step - loss: 0.3430 - val_loss: 0.2855 - lr: 1.0000e-09\n",
      "Epoch 82/100\n",
      "919/919 [==============================] - 12s 13ms/step - loss: 0.3457 - val_loss: 0.2855 - lr: 1.0000e-09\n",
      "Epoch 83/100\n",
      "919/919 [==============================] - 12s 13ms/step - loss: 0.3449 - val_loss: 0.2855 - lr: 1.0000e-09\n",
      "Epoch 84/100\n",
      "919/919 [==============================] - 12s 13ms/step - loss: 0.3461 - val_loss: 0.2855 - lr: 1.0000e-09\n",
      "Epoch 85/100\n",
      "919/919 [==============================] - 12s 13ms/step - loss: 0.3453 - val_loss: 0.2855 - lr: 1.0000e-09\n",
      "Epoch 86/100\n",
      "919/919 [==============================] - 12s 13ms/step - loss: 0.3465 - val_loss: 0.2855 - lr: 1.0000e-09\n",
      "Epoch 87/100\n",
      "919/919 [==============================] - 12s 13ms/step - loss: 0.3448 - val_loss: 0.2855 - lr: 1.0000e-09\n",
      "Epoch 88/100\n",
      "919/919 [==============================] - 12s 13ms/step - loss: 0.3465 - val_loss: 0.2855 - lr: 1.0000e-09\n",
      "Epoch 89/100\n",
      "919/919 [==============================] - 12s 13ms/step - loss: 0.3465 - val_loss: 0.2855 - lr: 1.0000e-09\n",
      "Epoch 90/100\n",
      "919/919 [==============================] - 12s 13ms/step - loss: 0.3450 - val_loss: 0.2855 - lr: 1.0000e-09\n",
      "Epoch 91/100\n",
      "919/919 [==============================] - 12s 13ms/step - loss: 0.3446 - val_loss: 0.2855 - lr: 1.0000e-09\n",
      "Epoch 92/100\n",
      "919/919 [==============================] - 12s 13ms/step - loss: 0.3410 - val_loss: 0.2855 - lr: 1.0000e-09\n",
      "Epoch 93/100\n",
      "919/919 [==============================] - 12s 13ms/step - loss: 0.3470 - val_loss: 0.2855 - lr: 1.0000e-09\n",
      "Epoch 94/100\n",
      "919/919 [==============================] - 12s 13ms/step - loss: 0.3467 - val_loss: 0.2855 - lr: 1.0000e-09\n",
      "Epoch 95/100\n",
      "919/919 [==============================] - 12s 13ms/step - loss: 0.3440 - val_loss: 0.2855 - lr: 1.0000e-09\n",
      "Epoch 96/100\n",
      "919/919 [==============================] - 12s 13ms/step - loss: 0.3486 - val_loss: 0.2855 - lr: 1.0000e-09\n",
      "Epoch 97/100\n",
      "919/919 [==============================] - 12s 13ms/step - loss: 0.3440 - val_loss: 0.2855 - lr: 1.0000e-09\n",
      "Epoch 98/100\n",
      "919/919 [==============================] - 12s 13ms/step - loss: 0.3459 - val_loss: 0.2855 - lr: 1.0000e-09\n",
      "Epoch 99/100\n",
      "919/919 [==============================] - 12s 13ms/step - loss: 0.3481 - val_loss: 0.2855 - lr: 1.0000e-09\n",
      "Epoch 100/100\n",
      "919/919 [==============================] - 12s 13ms/step - loss: 0.3444 - val_loss: 0.2855 - lr: 1.0000e-09\n"
     ]
    }
   ],
   "source": [
    "#fitting the model\n",
    "\n",
    "history = pems_model.fit( x = X_train_np, y = y_train_np, epochs=100,\n",
    "  validation_data = (X_val_np,y_val_np) ,callbacks = callbacks,verbose = 'auto')\n"
   ]
  },
  {
   "cell_type": "code",
   "execution_count": 15,
   "id": "65b07dc4",
   "metadata": {},
   "outputs": [
    {
     "data": {
      "image/png": "[encoded data removed]",
      "text/plain": [
       "<Figure size 800x500 with 1 Axes>"
      ]
     },
     "metadata": {},
     "output_type": "display_data"
    },
    {
     "data": {
      "text/plain": [
       "<Figure size 640x480 with 0 Axes>"
      ]
     },
     "metadata": {},
     "output_type": "display_data"
    }
   ],
   "source": [
    "import matplotlib.pyplot as plt\n",
    "pd.DataFrame(history.history).plot(figsize=(8, 5))\n",
    "plt.grid(True)\n",
    "plt.gca().set_ylim(0, 1) # set the vertical range to [0-1]\n",
    "plt.savefig('pems_performance.pdf')\n",
    "plt.show()\n"
   ]
  },
  {
   "cell_type": "code",
   "execution_count": 16,
   "id": "a1ac8213",
   "metadata": {},
   "outputs": [],
   "source": [
    "model_load = keras.models.load_model('pems_model.h5')"
   ]
  },
  {
   "cell_type": "code",
   "execution_count": 21,
   "id": "222e9709",
   "metadata": {},
   "outputs": [
    {
     "name": "stdout",
     "output_type": "stream",
     "text": [
      " 40/115 [=========>....................] - ETA: 0s"
     ]
    },
    {
     "name": "stderr",
     "output_type": "stream",
     "text": [
      "D:\\Programming\\python\\my_ai_lab\\lib\\site-packages\\tensorflow\\python\\data\\ops\\structured_function.py:264: UserWarning: Even though the `tf.config.experimental_run_functions_eagerly` option is set, this option does not apply to tf.data functions. To force eager execution of tf.data functions, please use `tf.data.experimental.enable_debug_mode()`.\n",
      "  warnings.warn(\n"
     ]
    },
    {
     "name": "stdout",
     "output_type": "stream",
     "text": [
      "115/115 [==============================] - 0s 3ms/step\n"
     ]
    }
   ],
   "source": [
    "y_predict = pems_model.predict(X_test_np)"
   ]
  },
  {
   "cell_type": "code",
   "execution_count": 22,
   "id": "66063315",
   "metadata": {},
   "outputs": [],
   "source": [
    "y_predict = pd.DataFrame(data = y_predict)\n",
    "y_test_tf = pd.DataFrame(data = y_test_np)"
   ]
  },
  {
   "cell_type": "code",
   "execution_count": 23,
   "id": "68b045ea",
   "metadata": {},
   "outputs": [
    {
     "data": {
      "text/html": [
       "<div>\n",
       "<style scoped>\n",
       "    .dataframe tbody tr th:only-of-type {\n",
       "        vertical-align: middle;\n",
       "    }\n",
       "\n",
       "    .dataframe tbody tr th {\n",
       "        vertical-align: top;\n",
       "    }\n",
       "\n",
       "    .dataframe thead th {\n",
       "        text-align: right;\n",
       "    }\n",
       "</style>\n",
       "<table border=\"1\" class=\"dataframe\">\n",
       "  <thead>\n",
       "    <tr style=\"text-align: right;\">\n",
       "      <th></th>\n",
       "      <th>0</th>\n",
       "    </tr>\n",
       "  </thead>\n",
       "  <tbody>\n",
       "    <tr>\n",
       "      <th>0</th>\n",
       "      <td>0.673895</td>\n",
       "    </tr>\n",
       "    <tr>\n",
       "      <th>1</th>\n",
       "      <td>2.294915</td>\n",
       "    </tr>\n",
       "    <tr>\n",
       "      <th>2</th>\n",
       "      <td>0.191966</td>\n",
       "    </tr>\n",
       "    <tr>\n",
       "      <th>3</th>\n",
       "      <td>1.044357</td>\n",
       "    </tr>\n",
       "    <tr>\n",
       "      <th>4</th>\n",
       "      <td>-0.771488</td>\n",
       "    </tr>\n",
       "  </tbody>\n",
       "</table>\n",
       "</div>"
      ],
      "text/plain": [
       "          0\n",
       "0  0.673895\n",
       "1  2.294915\n",
       "2  0.191966\n",
       "3  1.044357\n",
       "4 -0.771488"
      ]
     },
     "execution_count": 23,
     "metadata": {},
     "output_type": "execute_result"
    }
   ],
   "source": [
    "y_predict.head()"
   ]
  },
  {
   "cell_type": "code",
   "execution_count": 24,
   "id": "4040851f",
   "metadata": {},
   "outputs": [
    {
     "data": {
      "text/html": [
       "<div>\n",
       "<style scoped>\n",
       "    .dataframe tbody tr th:only-of-type {\n",
       "        vertical-align: middle;\n",
       "    }\n",
       "\n",
       "    .dataframe tbody tr th {\n",
       "        vertical-align: top;\n",
       "    }\n",
       "\n",
       "    .dataframe thead th {\n",
       "        text-align: right;\n",
       "    }\n",
       "</style>\n",
       "<table border=\"1\" class=\"dataframe\">\n",
       "  <thead>\n",
       "    <tr style=\"text-align: right;\">\n",
       "      <th></th>\n",
       "      <th>0</th>\n",
       "    </tr>\n",
       "  </thead>\n",
       "  <tbody>\n",
       "    <tr>\n",
       "      <th>0</th>\n",
       "      <td>0.976421</td>\n",
       "    </tr>\n",
       "    <tr>\n",
       "      <th>1</th>\n",
       "      <td>0.414376</td>\n",
       "    </tr>\n",
       "    <tr>\n",
       "      <th>2</th>\n",
       "      <td>0.294523</td>\n",
       "    </tr>\n",
       "    <tr>\n",
       "      <th>3</th>\n",
       "      <td>0.111756</td>\n",
       "    </tr>\n",
       "    <tr>\n",
       "      <th>4</th>\n",
       "      <td>-1.163431</td>\n",
       "    </tr>\n",
       "  </tbody>\n",
       "</table>\n",
       "</div>"
      ],
      "text/plain": [
       "          0\n",
       "0  0.976421\n",
       "1  0.414376\n",
       "2  0.294523\n",
       "3  0.111756\n",
       "4 -1.163431"
      ]
     },
     "execution_count": 24,
     "metadata": {},
     "output_type": "execute_result"
    }
   ],
   "source": [
    "y_test_tf.head()"
   ]
  },
  {
   "cell_type": "code",
   "execution_count": null,
   "id": "668e8b56",
   "metadata": {},
   "outputs": [],
   "source": []
  }
 ],
 "metadata": {
  "kernelspec": {
   "display_name": "Python 3 (ipykernel)",
   "language": "python",
   "name": "python3"
  },
  "language_info": {
   "codemirror_mode": {
    "name": "ipython",
    "version": 3
   },
   "file_extension": ".py",
   "mimetype": "text/x-python",
   "name": "python",
   "nbconvert_exporter": "python",
   "pygments_lexer": "ipython3",
   "version": "3.9.13"
  }
 },
 "nbformat": 4,
 "nbformat_minor": 5
}
