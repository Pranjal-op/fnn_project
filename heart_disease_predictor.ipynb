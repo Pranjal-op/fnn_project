{
 "cells": [
  {
   "cell_type": "code",
   "execution_count": 45,
   "id": "6f7b6a41",
   "metadata": {},
   "outputs": [],
   "source": [
    "import pandas as pd\n",
    "import seaborn as sns\n",
    "import numpy as np\n",
    "import tensorflow as tf\n",
    "\n",
    "from sklearn import preprocessing\n"
   ]
  },
  {
   "cell_type": "code",
   "execution_count": 46,
   "id": "615525cd",
   "metadata": {},
   "outputs": [
    {
     "ename": "SyntaxError",
     "evalue": "invalid syntax (3354310885.py, line 1)",
     "output_type": "error",
     "traceback": [
      "\u001b[1;36m  Cell \u001b[1;32mIn [46], line 1\u001b[1;36m\u001b[0m\n\u001b[1;33m    https://stackoverflow.com/questions/22149584/what-does-axis-in-pandas-mean\u001b[0m\n\u001b[1;37m          ^\u001b[0m\n\u001b[1;31mSyntaxError\u001b[0m\u001b[1;31m:\u001b[0m invalid syntax\n"
     ]
    }
   ],
   "source": [
    "https://stackoverflow.com/questions/22149584/what-does-axis-in-pandas-mean \n",
    "    axis in pandas"
   ]
  },
  {
   "cell_type": "code",
   "execution_count": 47,
   "id": "426c7d13",
   "metadata": {},
   "outputs": [
    {
     "data": {
      "text/html": [
       "<div>\n",
       "<style scoped>\n",
       "    .dataframe tbody tr th:only-of-type {\n",
       "        vertical-align: middle;\n",
       "    }\n",
       "\n",
       "    .dataframe tbody tr th {\n",
       "        vertical-align: top;\n",
       "    }\n",
       "\n",
       "    .dataframe thead th {\n",
       "        text-align: right;\n",
       "    }\n",
       "</style>\n",
       "<table border=\"1\" class=\"dataframe\">\n",
       "  <thead>\n",
       "    <tr style=\"text-align: right;\">\n",
       "      <th></th>\n",
       "      <th>age</th>\n",
       "      <th>sex</th>\n",
       "      <th>cp</th>\n",
       "      <th>trestbps</th>\n",
       "      <th>chol</th>\n",
       "      <th>fbs</th>\n",
       "      <th>restecg</th>\n",
       "      <th>thalach</th>\n",
       "      <th>exang</th>\n",
       "      <th>oldpeak</th>\n",
       "      <th>slope</th>\n",
       "      <th>ca</th>\n",
       "      <th>thal</th>\n",
       "      <th>DISEASE</th>\n",
       "    </tr>\n",
       "  </thead>\n",
       "  <tbody>\n",
       "    <tr>\n",
       "      <th>0</th>\n",
       "      <td>63.0</td>\n",
       "      <td>1.0</td>\n",
       "      <td>1.0</td>\n",
       "      <td>145.0</td>\n",
       "      <td>233.0</td>\n",
       "      <td>1.0</td>\n",
       "      <td>2.0</td>\n",
       "      <td>150.0</td>\n",
       "      <td>0.0</td>\n",
       "      <td>2.3</td>\n",
       "      <td>3.0</td>\n",
       "      <td>0.0</td>\n",
       "      <td>6.0</td>\n",
       "      <td>0</td>\n",
       "    </tr>\n",
       "    <tr>\n",
       "      <th>1</th>\n",
       "      <td>67.0</td>\n",
       "      <td>1.0</td>\n",
       "      <td>4.0</td>\n",
       "      <td>160.0</td>\n",
       "      <td>286.0</td>\n",
       "      <td>0.0</td>\n",
       "      <td>2.0</td>\n",
       "      <td>108.0</td>\n",
       "      <td>1.0</td>\n",
       "      <td>1.5</td>\n",
       "      <td>2.0</td>\n",
       "      <td>3.0</td>\n",
       "      <td>3.0</td>\n",
       "      <td>1</td>\n",
       "    </tr>\n",
       "    <tr>\n",
       "      <th>2</th>\n",
       "      <td>67.0</td>\n",
       "      <td>1.0</td>\n",
       "      <td>4.0</td>\n",
       "      <td>120.0</td>\n",
       "      <td>229.0</td>\n",
       "      <td>0.0</td>\n",
       "      <td>2.0</td>\n",
       "      <td>129.0</td>\n",
       "      <td>1.0</td>\n",
       "      <td>2.6</td>\n",
       "      <td>2.0</td>\n",
       "      <td>2.0</td>\n",
       "      <td>7.0</td>\n",
       "      <td>1</td>\n",
       "    </tr>\n",
       "    <tr>\n",
       "      <th>3</th>\n",
       "      <td>37.0</td>\n",
       "      <td>1.0</td>\n",
       "      <td>3.0</td>\n",
       "      <td>130.0</td>\n",
       "      <td>250.0</td>\n",
       "      <td>0.0</td>\n",
       "      <td>0.0</td>\n",
       "      <td>187.0</td>\n",
       "      <td>0.0</td>\n",
       "      <td>3.5</td>\n",
       "      <td>3.0</td>\n",
       "      <td>0.0</td>\n",
       "      <td>3.0</td>\n",
       "      <td>0</td>\n",
       "    </tr>\n",
       "    <tr>\n",
       "      <th>4</th>\n",
       "      <td>41.0</td>\n",
       "      <td>0.0</td>\n",
       "      <td>2.0</td>\n",
       "      <td>130.0</td>\n",
       "      <td>204.0</td>\n",
       "      <td>0.0</td>\n",
       "      <td>2.0</td>\n",
       "      <td>172.0</td>\n",
       "      <td>0.0</td>\n",
       "      <td>1.4</td>\n",
       "      <td>1.0</td>\n",
       "      <td>0.0</td>\n",
       "      <td>3.0</td>\n",
       "      <td>0</td>\n",
       "    </tr>\n",
       "  </tbody>\n",
       "</table>\n",
       "</div>"
      ],
      "text/plain": [
       "    age  sex   cp  trestbps   chol  fbs  restecg  thalach  exang  oldpeak  \\\n",
       "0  63.0  1.0  1.0     145.0  233.0  1.0      2.0    150.0    0.0      2.3   \n",
       "1  67.0  1.0  4.0     160.0  286.0  0.0      2.0    108.0    1.0      1.5   \n",
       "2  67.0  1.0  4.0     120.0  229.0  0.0      2.0    129.0    1.0      2.6   \n",
       "3  37.0  1.0  3.0     130.0  250.0  0.0      0.0    187.0    0.0      3.5   \n",
       "4  41.0  0.0  2.0     130.0  204.0  0.0      2.0    172.0    0.0      1.4   \n",
       "\n",
       "   slope   ca thal  DISEASE  \n",
       "0    3.0  0.0  6.0        0  \n",
       "1    2.0  3.0  3.0        1  \n",
       "2    2.0  2.0  7.0        1  \n",
       "3    3.0  0.0  3.0        0  \n",
       "4    1.0  0.0  3.0        0  "
      ]
     },
     "execution_count": 47,
     "metadata": {},
     "output_type": "execute_result"
    }
   ],
   "source": [
    "url  = 'https://archive.ics.uci.edu/ml/machine-learning-databases/heart-disease/processed.cleveland.data'\n",
    "url = 'D:\\Programming\\python\\my_ai_lab\\dataset\\processed.cleveland.data'\n",
    "\n",
    "data = pd.read_csv(url,sep = ',')\n",
    "\n",
    "# data contain some ?'s; replace with NaN and drop those rows\n",
    "data = data.replace('?',np.nan).dropna()\n",
    "#setting disease value to 0 or 1\n",
    "data['DISEASE'][data['DISEASE']>0] = 1\n",
    "# getting descriptive stats\n",
    "data.head()\n"
   ]
  },
  {
   "cell_type": "markdown",
   "id": "fa4d9388",
   "metadata": {},
   "source": [
    "# Start of Preprocessing"
   ]
  },
  {
   "cell_type": "code",
   "execution_count": 48,
   "id": "622bf67c",
   "metadata": {},
   "outputs": [],
   "source": [
    "#getting keys of data\n",
    "keys = data.keys()\n",
    "#separating categorical and numerical keys\n",
    "cat_keys = ['sex','fbs','exang','DISEASE']\n",
    "num_keys = []\n",
    "for i in keys:\n",
    "    if i in cat_keys:\n",
    "        pass\n",
    "    else:\n",
    "        num_keys.append(i)\n",
    "        \n",
    "#creating num and categorical dataset for easy operation\n",
    "data_cat = data[[i for i in cat_keys]]\n",
    "data_num = data[[i for i in num_keys]]\n",
    "#creating transform dataset header\n",
    "data_tr_header = []\n",
    "for i in num_keys:\n",
    "    data_tr_header.append(i)\n",
    "for i in cat_keys:\n",
    "    data_tr_header.append(i)\n"
   ]
  },
  {
   "cell_type": "code",
   "execution_count": 49,
   "id": "b4321344",
   "metadata": {},
   "outputs": [
    {
     "name": "stderr",
     "output_type": "stream",
     "text": [
      "C:\\Users\\hp\\AppData\\Local\\Temp\\ipykernel_20772\\1866129610.py:2: SettingWithCopyWarning: \n",
      "A value is trying to be set on a copy of a slice from a DataFrame\n",
      "\n",
      "See the caveats in the documentation: https://pandas.pydata.org/pandas-docs/stable/user_guide/indexing.html#returning-a-view-versus-a-copy\n",
      "  data_cat['DISEASE'][data_cat['DISEASE']>0] = 1\n",
      "C:\\Users\\hp\\AppData\\Local\\Temp\\ipykernel_20772\\1866129610.py:2: SettingWithCopyWarning: \n",
      "A value is trying to be set on a copy of a slice from a DataFrame\n",
      "\n",
      "See the caveats in the documentation: https://pandas.pydata.org/pandas-docs/stable/user_guide/indexing.html#returning-a-view-versus-a-copy\n",
      "  data_cat['DISEASE'][data_cat['DISEASE']>0] = 1\n"
     ]
    }
   ],
   "source": [
    "#setting disease value to 0 or 1\n",
    "data_cat['DISEASE'][data_cat['DISEASE']>0] = 1\n",
    "#sns.displot(data = data['DISEASE'])"
   ]
  },
  {
   "cell_type": "code",
   "execution_count": 50,
   "id": "fed2caf2",
   "metadata": {},
   "outputs": [
    {
     "data": {
      "text/html": [
       "<div>\n",
       "<style scoped>\n",
       "    .dataframe tbody tr th:only-of-type {\n",
       "        vertical-align: middle;\n",
       "    }\n",
       "\n",
       "    .dataframe tbody tr th {\n",
       "        vertical-align: top;\n",
       "    }\n",
       "\n",
       "    .dataframe thead th {\n",
       "        text-align: right;\n",
       "    }\n",
       "</style>\n",
       "<table border=\"1\" class=\"dataframe\">\n",
       "  <thead>\n",
       "    <tr style=\"text-align: right;\">\n",
       "      <th></th>\n",
       "      <th>0</th>\n",
       "      <th>1</th>\n",
       "      <th>2</th>\n",
       "      <th>3</th>\n",
       "      <th>4</th>\n",
       "      <th>5</th>\n",
       "      <th>6</th>\n",
       "      <th>7</th>\n",
       "      <th>8</th>\n",
       "      <th>9</th>\n",
       "      <th>10</th>\n",
       "      <th>11</th>\n",
       "      <th>12</th>\n",
       "      <th>13</th>\n",
       "    </tr>\n",
       "  </thead>\n",
       "  <tbody>\n",
       "    <tr>\n",
       "      <th>0</th>\n",
       "      <td>0.708333</td>\n",
       "      <td>1.0</td>\n",
       "      <td>0.000000</td>\n",
       "      <td>0.481132</td>\n",
       "      <td>0.244292</td>\n",
       "      <td>1.0</td>\n",
       "      <td>1.0</td>\n",
       "      <td>0.603053</td>\n",
       "      <td>0.0</td>\n",
       "      <td>0.370968</td>\n",
       "      <td>1.0</td>\n",
       "      <td>0.000000</td>\n",
       "      <td>0.75</td>\n",
       "      <td>0.0</td>\n",
       "    </tr>\n",
       "    <tr>\n",
       "      <th>1</th>\n",
       "      <td>0.791667</td>\n",
       "      <td>1.0</td>\n",
       "      <td>1.000000</td>\n",
       "      <td>0.622642</td>\n",
       "      <td>0.365297</td>\n",
       "      <td>0.0</td>\n",
       "      <td>1.0</td>\n",
       "      <td>0.282443</td>\n",
       "      <td>1.0</td>\n",
       "      <td>0.241935</td>\n",
       "      <td>0.5</td>\n",
       "      <td>1.000000</td>\n",
       "      <td>0.00</td>\n",
       "      <td>1.0</td>\n",
       "    </tr>\n",
       "    <tr>\n",
       "      <th>2</th>\n",
       "      <td>0.791667</td>\n",
       "      <td>1.0</td>\n",
       "      <td>1.000000</td>\n",
       "      <td>0.245283</td>\n",
       "      <td>0.235160</td>\n",
       "      <td>0.0</td>\n",
       "      <td>1.0</td>\n",
       "      <td>0.442748</td>\n",
       "      <td>1.0</td>\n",
       "      <td>0.419355</td>\n",
       "      <td>0.5</td>\n",
       "      <td>0.666667</td>\n",
       "      <td>1.00</td>\n",
       "      <td>1.0</td>\n",
       "    </tr>\n",
       "    <tr>\n",
       "      <th>3</th>\n",
       "      <td>0.166667</td>\n",
       "      <td>1.0</td>\n",
       "      <td>0.666667</td>\n",
       "      <td>0.339623</td>\n",
       "      <td>0.283105</td>\n",
       "      <td>0.0</td>\n",
       "      <td>0.0</td>\n",
       "      <td>0.885496</td>\n",
       "      <td>0.0</td>\n",
       "      <td>0.564516</td>\n",
       "      <td>1.0</td>\n",
       "      <td>0.000000</td>\n",
       "      <td>0.00</td>\n",
       "      <td>0.0</td>\n",
       "    </tr>\n",
       "    <tr>\n",
       "      <th>4</th>\n",
       "      <td>0.250000</td>\n",
       "      <td>0.0</td>\n",
       "      <td>0.333333</td>\n",
       "      <td>0.339623</td>\n",
       "      <td>0.178082</td>\n",
       "      <td>0.0</td>\n",
       "      <td>1.0</td>\n",
       "      <td>0.770992</td>\n",
       "      <td>0.0</td>\n",
       "      <td>0.225806</td>\n",
       "      <td>0.0</td>\n",
       "      <td>0.000000</td>\n",
       "      <td>0.00</td>\n",
       "      <td>0.0</td>\n",
       "    </tr>\n",
       "  </tbody>\n",
       "</table>\n",
       "</div>"
      ],
      "text/plain": [
       "         0    1         2         3         4    5    6         7    8   \\\n",
       "0  0.708333  1.0  0.000000  0.481132  0.244292  1.0  1.0  0.603053  0.0   \n",
       "1  0.791667  1.0  1.000000  0.622642  0.365297  0.0  1.0  0.282443  1.0   \n",
       "2  0.791667  1.0  1.000000  0.245283  0.235160  0.0  1.0  0.442748  1.0   \n",
       "3  0.166667  1.0  0.666667  0.339623  0.283105  0.0  0.0  0.885496  0.0   \n",
       "4  0.250000  0.0  0.333333  0.339623  0.178082  0.0  1.0  0.770992  0.0   \n",
       "\n",
       "         9    10        11    12   13  \n",
       "0  0.370968  1.0  0.000000  0.75  0.0  \n",
       "1  0.241935  0.5  1.000000  0.00  1.0  \n",
       "2  0.419355  0.5  0.666667  1.00  1.0  \n",
       "3  0.564516  1.0  0.000000  0.00  0.0  \n",
       "4  0.225806  0.0  0.000000  0.00  0.0  "
      ]
     },
     "execution_count": 50,
     "metadata": {},
     "output_type": "execute_result"
    },
    {
     "data": {
      "image/png": "[encoded data removed]",
      "text/plain": [
       "<Figure size 640x480 with 1 Axes>"
      ]
     },
     "metadata": {},
     "output_type": "display_data"
    }
   ],
   "source": [
    "# normalization of data \n",
    "from sklearn.pipeline import Pipeline\n",
    "from sklearn.preprocessing import StandardScaler\n",
    "from sklearn.preprocessing import MinMaxScaler\n",
    "\n",
    "#('std_scaler', StandardScaler()),\n",
    "\n",
    "num_pipeline = Pipeline([('min_max_scaler' , MinMaxScaler())])\n",
    "data_tr = pd.DataFrame(num_pipeline.fit_transform(data))\n",
    "\n",
    "#concating num_tr data and cat data\n",
    "#data_tr = pd.concat([data_num_tr,data_cat], axis = 1)\n",
    "\n",
    "\n",
    "#adding header to dataset\n",
    "#data_tr.columns = data_tr_header\n",
    "\n",
    "sns.boxplot(data = data_tr)\n",
    "data_tr.head()"
   ]
  },
  {
   "cell_type": "markdown",
   "id": "b01283c5",
   "metadata": {},
   "source": [
    "# Creating test train and validation set"
   ]
  },
  {
   "cell_type": "code",
   "execution_count": 51,
   "id": "e122471c",
   "metadata": {},
   "outputs": [],
   "source": [
    "from sklearn.model_selection import train_test_split\n",
    "\n",
    "X = data_tr.iloc[:,:13]\n",
    "y = data_tr.iloc[:,13:14]\n",
    "X.head()\n",
    "X_train_full, X_test, y_train_full, y_test = train_test_split(X,y,test_size = 0.3,random_state = 42)\n",
    "X_train, X_valid, y_train, y_valid = train_test_split(X_train_full, y_train_full,test_size = 0.2,random_state = 42)\n",
    "\n",
    "\n"
   ]
  },
  {
   "cell_type": "code",
   "execution_count": 52,
   "id": "36f18ae4",
   "metadata": {},
   "outputs": [
    {
     "data": {
      "text/plain": [
       "(165, 1)"
      ]
     },
     "execution_count": 52,
     "metadata": {},
     "output_type": "execute_result"
    }
   ],
   "source": [
    "y_train.shape"
   ]
  },
  {
   "cell_type": "code",
   "execution_count": null,
   "id": "382cb209",
   "metadata": {},
   "outputs": [],
   "source": []
  },
  {
   "cell_type": "markdown",
   "id": "115f2b10",
   "metadata": {},
   "source": [
    "# Creating model"
   ]
  },
  {
   "cell_type": "code",
   "execution_count": 130,
   "id": "18bf477a",
   "metadata": {},
   "outputs": [
    {
     "name": "stdout",
     "output_type": "stream",
     "text": [
      "Model: \"sequential_20\"\n",
      "_________________________________________________________________\n",
      " Layer (type)                Output Shape              Param #   \n",
      "=================================================================\n",
      " dense_61 (Dense)            (None, 12)                168       \n",
      "                                                                 \n",
      " dropout_32 (Dropout)        (None, 12)                0         \n",
      "                                                                 \n",
      " dense_62 (Dense)            (None, 6)                 78        \n",
      "                                                                 \n",
      " dropout_33 (Dropout)        (None, 6)                 0         \n",
      "                                                                 \n",
      " dense_63 (Dense)            (None, 1)                 7         \n",
      "                                                                 \n",
      "=================================================================\n",
      "Total params: 253\n",
      "Trainable params: 253\n",
      "Non-trainable params: 0\n",
      "_________________________________________________________________\n"
     ]
    },
    {
     "name": "stderr",
     "output_type": "stream",
     "text": [
      "D:\\Programming\\python\\my_ai_lab\\lib\\site-packages\\keras\\initializers\\initializers_v2.py:120: UserWarning: The initializer HeNormal is unseeded and being called multiple times, which will return identical values  each time (even if the initializer is unseeded). Please update your code to provide a seed to the initializer, or avoid using the same initalizer instance more than once.\n",
      "  warnings.warn(\n"
     ]
    }
   ],
   "source": [
    "from tensorflow import keras\n",
    "\n",
    "initializer = keras.initializers.HeNormal()\n",
    "\n",
    "model1 = keras.models.Sequential([\n",
    "    \n",
    "    keras.layers.InputLayer(input_shape=(13,)),\n",
    "    keras.layers.Dense(12,kernel_initializer=initializer, activation='elu'),\n",
    "    keras.layers.Dropout(0.40),\n",
    "    #tf.keras.layers.LayerNormalization(axis=1),\n",
    "    keras.layers.Dense(6,kernel_initializer=initializer, activation='elu'),\n",
    "    keras.layers.Dropout(0.20),\n",
    "    #tf.keras.layers.LayerNormalization(axis=1),\n",
    "    keras.layers.Dense(1, kernel_initializer=initializer ,activation='sigmoid')\n",
    "])\n",
    "    \n",
    "optimizer = keras.optimizers.SGD(learning_rate=0.001,momentum = 0.9)\n",
    "loss = keras.losses.BinaryCrossentropy(from_logits=True)\n",
    "model1.summary()\n",
    "\n",
    "model1.compile(loss = loss,\n",
    "optimizer= optimizer,\n",
    "metrics=[\"accuracy\"])"
   ]
  },
  {
   "cell_type": "code",
   "execution_count": 131,
   "id": "7188bddc",
   "metadata": {},
   "outputs": [],
   "source": [
    "# Define some useful callbacks\n",
    "#Reduce learning rate when a metric has stopped improving.\n",
    "reducelrp = keras.callbacks.ReduceLROnPlateau(monitor='val_loss', factor=0.1, patience=30, verbose=0, mode='auto', min_delta=0.0001, cooldown=0, min_lr=0)\n",
    "# Stop training when a monitored quantity has stopped improving. \n",
    "# By default, mode is set to ‘auto‘ and knows that you want to minimize loss or maximize accuracy.\n",
    "early_stopping_monitor=keras.callbacks.EarlyStopping(monitor='val_loss',verbose=1, patience=30, baseline=0.4, )\n",
    "# Save the model after every epoch.\n",
    "best_trained_model_file= 'heart_disease_model.h5'\n",
    "checkpoint = keras.callbacks.ModelCheckpoint(best_trained_model_file, verbose=0, monitor='val_loss',save_best_only=True, mode='auto')  \n",
    "#place callbacks want to enable on this list\n",
    "callbacks= [checkpoint,reducelrp] #[checkpoint,"
   ]
  },
  {
   "cell_type": "code",
   "execution_count": 132,
   "id": "cef4a351",
   "metadata": {},
   "outputs": [
    {
     "name": "stdout",
     "output_type": "stream",
     "text": [
      "Epoch 1/100\n"
     ]
    },
    {
     "name": "stderr",
     "output_type": "stream",
     "text": [
      "D:\\Programming\\python\\my_ai_lab\\lib\\site-packages\\keras\\backend.py:5673: UserWarning: \"`binary_crossentropy` received `from_logits=True`, but the `output` argument was produced by a Sigmoid activation and thus does not represent logits. Was this intended?\n",
      "  output, from_logits = _get_logits(\n"
     ]
    },
    {
     "name": "stdout",
     "output_type": "stream",
     "text": [
      "6/6 [==============================] - 1s 38ms/step - loss: 0.6738 - accuracy: 0.5879 - val_loss: 0.7797 - val_accuracy: 0.4524 - lr: 0.0010\n",
      "Epoch 2/100\n",
      "6/6 [==============================] - 0s 13ms/step - loss: 0.7157 - accuracy: 0.5879 - val_loss: 0.7734 - val_accuracy: 0.4762 - lr: 0.0010\n",
      "Epoch 3/100\n",
      "1/6 [====>.........................] - ETA: 0s - loss: 0.6467 - accuracy: 0.5938"
     ]
    },
    {
     "name": "stderr",
     "output_type": "stream",
     "text": [
      "D:\\Programming\\python\\my_ai_lab\\lib\\site-packages\\keras\\backend.py:5673: UserWarning: \"`binary_crossentropy` received `from_logits=True`, but the `output` argument was produced by a Sigmoid activation and thus does not represent logits. Was this intended?\n",
      "  output, from_logits = _get_logits(\n"
     ]
    },
    {
     "name": "stdout",
     "output_type": "stream",
     "text": [
      "6/6 [==============================] - 0s 15ms/step - loss: 0.7081 - accuracy: 0.6182 - val_loss: 0.7672 - val_accuracy: 0.5000 - lr: 0.0010\n",
      "Epoch 4/100\n",
      "6/6 [==============================] - 0s 11ms/step - loss: 0.6634 - accuracy: 0.6061 - val_loss: 0.7616 - val_accuracy: 0.5000 - lr: 0.0010\n",
      "Epoch 5/100\n",
      "6/6 [==============================] - 0s 14ms/step - loss: 0.6840 - accuracy: 0.6242 - val_loss: 0.7550 - val_accuracy: 0.5238 - lr: 0.0010\n",
      "Epoch 6/100\n",
      "6/6 [==============================] - 0s 12ms/step - loss: 0.6740 - accuracy: 0.6061 - val_loss: 0.7490 - val_accuracy: 0.5238 - lr: 0.0010\n",
      "Epoch 7/100\n",
      "6/6 [==============================] - 0s 11ms/step - loss: 0.6703 - accuracy: 0.5515 - val_loss: 0.7443 - val_accuracy: 0.5714 - lr: 0.0010\n",
      "Epoch 8/100\n",
      "6/6 [==============================] - 0s 11ms/step - loss: 0.6610 - accuracy: 0.5939 - val_loss: 0.7386 - val_accuracy: 0.5714 - lr: 0.0010\n",
      "Epoch 9/100\n",
      "6/6 [==============================] - 0s 12ms/step - loss: 0.6617 - accuracy: 0.6364 - val_loss: 0.7330 - val_accuracy: 0.5714 - lr: 0.0010\n",
      "Epoch 10/100\n",
      "6/6 [==============================] - 0s 12ms/step - loss: 0.6646 - accuracy: 0.6242 - val_loss: 0.7285 - val_accuracy: 0.5714 - lr: 0.0010\n",
      "Epoch 11/100\n",
      "6/6 [==============================] - 0s 13ms/step - loss: 0.6643 - accuracy: 0.6182 - val_loss: 0.7253 - val_accuracy: 0.5714 - lr: 0.0010\n",
      "Epoch 12/100\n",
      "6/6 [==============================] - 0s 13ms/step - loss: 0.6771 - accuracy: 0.6121 - val_loss: 0.7218 - val_accuracy: 0.5952 - lr: 0.0010\n",
      "Epoch 13/100\n",
      "6/6 [==============================] - 0s 11ms/step - loss: 0.6685 - accuracy: 0.5758 - val_loss: 0.7176 - val_accuracy: 0.6190 - lr: 0.0010\n",
      "Epoch 14/100\n",
      "6/6 [==============================] - 0s 12ms/step - loss: 0.6495 - accuracy: 0.6303 - val_loss: 0.7146 - val_accuracy: 0.6190 - lr: 0.0010\n",
      "Epoch 15/100\n",
      "6/6 [==============================] - 0s 12ms/step - loss: 0.6549 - accuracy: 0.6485 - val_loss: 0.7110 - val_accuracy: 0.6190 - lr: 0.0010\n",
      "Epoch 16/100\n",
      "6/6 [==============================] - 0s 11ms/step - loss: 0.6908 - accuracy: 0.5455 - val_loss: 0.7051 - val_accuracy: 0.6190 - lr: 0.0010\n",
      "Epoch 17/100\n",
      "6/6 [==============================] - 0s 13ms/step - loss: 0.6378 - accuracy: 0.6485 - val_loss: 0.7003 - val_accuracy: 0.6190 - lr: 0.0010\n",
      "Epoch 18/100\n",
      "6/6 [==============================] - 0s 11ms/step - loss: 0.6613 - accuracy: 0.6364 - val_loss: 0.6978 - val_accuracy: 0.6190 - lr: 0.0010\n",
      "Epoch 19/100\n",
      "6/6 [==============================] - 0s 13ms/step - loss: 0.6716 - accuracy: 0.6242 - val_loss: 0.6953 - val_accuracy: 0.6190 - lr: 0.0010\n",
      "Epoch 20/100\n",
      "6/6 [==============================] - 0s 11ms/step - loss: 0.6022 - accuracy: 0.6909 - val_loss: 0.6938 - val_accuracy: 0.6429 - lr: 0.0010\n",
      "Epoch 21/100\n",
      "6/6 [==============================] - 0s 13ms/step - loss: 0.6847 - accuracy: 0.6121 - val_loss: 0.6918 - val_accuracy: 0.6429 - lr: 0.0010\n",
      "Epoch 22/100\n",
      "6/6 [==============================] - 0s 12ms/step - loss: 0.6087 - accuracy: 0.7152 - val_loss: 0.6891 - val_accuracy: 0.6429 - lr: 0.0010\n",
      "Epoch 23/100\n",
      "6/6 [==============================] - 0s 12ms/step - loss: 0.6419 - accuracy: 0.6606 - val_loss: 0.6878 - val_accuracy: 0.6429 - lr: 0.0010\n",
      "Epoch 24/100\n",
      "6/6 [==============================] - 0s 15ms/step - loss: 0.6245 - accuracy: 0.6485 - val_loss: 0.6865 - val_accuracy: 0.6429 - lr: 0.0010\n",
      "Epoch 25/100\n",
      "6/6 [==============================] - 0s 16ms/step - loss: 0.6898 - accuracy: 0.6121 - val_loss: 0.6846 - val_accuracy: 0.6429 - lr: 0.0010\n",
      "Epoch 26/100\n",
      "6/6 [==============================] - 0s 11ms/step - loss: 0.6214 - accuracy: 0.6848 - val_loss: 0.6822 - val_accuracy: 0.6429 - lr: 0.0010\n",
      "Epoch 27/100\n",
      "6/6 [==============================] - 0s 11ms/step - loss: 0.6195 - accuracy: 0.6667 - val_loss: 0.6798 - val_accuracy: 0.6429 - lr: 0.0010\n",
      "Epoch 28/100\n",
      "6/6 [==============================] - 0s 14ms/step - loss: 0.6240 - accuracy: 0.6727 - val_loss: 0.6765 - val_accuracy: 0.6429 - lr: 0.0010\n",
      "Epoch 29/100\n",
      "6/6 [==============================] - 0s 11ms/step - loss: 0.6086 - accuracy: 0.7030 - val_loss: 0.6734 - val_accuracy: 0.6429 - lr: 0.0010\n",
      "Epoch 30/100\n",
      "6/6 [==============================] - 0s 11ms/step - loss: 0.6772 - accuracy: 0.6121 - val_loss: 0.6708 - val_accuracy: 0.6429 - lr: 0.0010\n",
      "Epoch 31/100\n",
      "6/6 [==============================] - 0s 16ms/step - loss: 0.6655 - accuracy: 0.6424 - val_loss: 0.6687 - val_accuracy: 0.6429 - lr: 0.0010\n",
      "Epoch 32/100\n",
      "6/6 [==============================] - 0s 13ms/step - loss: 0.6136 - accuracy: 0.7091 - val_loss: 0.6677 - val_accuracy: 0.6429 - lr: 0.0010\n",
      "Epoch 33/100\n",
      "6/6 [==============================] - 0s 11ms/step - loss: 0.5865 - accuracy: 0.6909 - val_loss: 0.6667 - val_accuracy: 0.6429 - lr: 0.0010\n",
      "Epoch 34/100\n",
      "6/6 [==============================] - 0s 10ms/step - loss: 0.6527 - accuracy: 0.6364 - val_loss: 0.6654 - val_accuracy: 0.6429 - lr: 0.0010\n",
      "Epoch 35/100\n",
      "6/6 [==============================] - 0s 9ms/step - loss: 0.5891 - accuracy: 0.7212 - val_loss: 0.6654 - val_accuracy: 0.6429 - lr: 0.0010\n",
      "Epoch 36/100\n",
      "6/6 [==============================] - 0s 8ms/step - loss: 0.6376 - accuracy: 0.6727 - val_loss: 0.6657 - val_accuracy: 0.6667 - lr: 0.0010\n",
      "Epoch 37/100\n",
      "6/6 [==============================] - 0s 12ms/step - loss: 0.6462 - accuracy: 0.6545 - val_loss: 0.6652 - val_accuracy: 0.6667 - lr: 0.0010\n",
      "Epoch 38/100\n",
      "6/6 [==============================] - 0s 8ms/step - loss: 0.6089 - accuracy: 0.7515 - val_loss: 0.6659 - val_accuracy: 0.6667 - lr: 0.0010\n",
      "Epoch 39/100\n",
      "6/6 [==============================] - 0s 9ms/step - loss: 0.6412 - accuracy: 0.6545 - val_loss: 0.6657 - val_accuracy: 0.6667 - lr: 0.0010\n",
      "Epoch 40/100\n",
      "6/6 [==============================] - 0s 9ms/step - loss: 0.6141 - accuracy: 0.6909 - val_loss: 0.6673 - val_accuracy: 0.6667 - lr: 0.0010\n",
      "Epoch 41/100\n",
      "6/6 [==============================] - 0s 9ms/step - loss: 0.6066 - accuracy: 0.6606 - val_loss: 0.6669 - val_accuracy: 0.6429 - lr: 0.0010\n",
      "Epoch 42/100\n",
      "6/6 [==============================] - 0s 9ms/step - loss: 0.6135 - accuracy: 0.6727 - val_loss: 0.6662 - val_accuracy: 0.6429 - lr: 0.0010\n",
      "Epoch 43/100\n",
      "6/6 [==============================] - 0s 8ms/step - loss: 0.5883 - accuracy: 0.6788 - val_loss: 0.6659 - val_accuracy: 0.6190 - lr: 0.0010\n",
      "Epoch 44/100\n",
      "6/6 [==============================] - 0s 9ms/step - loss: 0.5990 - accuracy: 0.7333 - val_loss: 0.6669 - val_accuracy: 0.6190 - lr: 0.0010\n",
      "Epoch 45/100\n",
      "6/6 [==============================] - 0s 10ms/step - loss: 0.6200 - accuracy: 0.6788 - val_loss: 0.6665 - val_accuracy: 0.6190 - lr: 0.0010\n",
      "Epoch 46/100\n",
      "6/6 [==============================] - 0s 9ms/step - loss: 0.5936 - accuracy: 0.7394 - val_loss: 0.6659 - val_accuracy: 0.5952 - lr: 0.0010\n",
      "Epoch 47/100\n",
      "6/6 [==============================] - 0s 12ms/step - loss: 0.6066 - accuracy: 0.6424 - val_loss: 0.6649 - val_accuracy: 0.5952 - lr: 0.0010\n",
      "Epoch 48/100\n",
      "6/6 [==============================] - 0s 13ms/step - loss: 0.5818 - accuracy: 0.7152 - val_loss: 0.6646 - val_accuracy: 0.5952 - lr: 0.0010\n",
      "Epoch 49/100\n",
      "6/6 [==============================] - 0s 11ms/step - loss: 0.6238 - accuracy: 0.6970 - val_loss: 0.6635 - val_accuracy: 0.5952 - lr: 0.0010\n",
      "Epoch 50/100\n",
      "6/6 [==============================] - 0s 10ms/step - loss: 0.5855 - accuracy: 0.7152 - val_loss: 0.6611 - val_accuracy: 0.5952 - lr: 0.0010\n",
      "Epoch 51/100\n",
      "6/6 [==============================] - 0s 11ms/step - loss: 0.5981 - accuracy: 0.6788 - val_loss: 0.6577 - val_accuracy: 0.5952 - lr: 0.0010\n",
      "Epoch 52/100\n",
      "6/6 [==============================] - 0s 11ms/step - loss: 0.6124 - accuracy: 0.6606 - val_loss: 0.6551 - val_accuracy: 0.6190 - lr: 0.0010\n",
      "Epoch 53/100\n",
      "6/6 [==============================] - 0s 11ms/step - loss: 0.6004 - accuracy: 0.7212 - val_loss: 0.6542 - val_accuracy: 0.6190 - lr: 0.0010\n",
      "Epoch 54/100\n",
      "6/6 [==============================] - 0s 9ms/step - loss: 0.5990 - accuracy: 0.6788 - val_loss: 0.6544 - val_accuracy: 0.6190 - lr: 0.0010\n",
      "Epoch 55/100\n",
      "6/6 [==============================] - 0s 11ms/step - loss: 0.5776 - accuracy: 0.7152 - val_loss: 0.6525 - val_accuracy: 0.6190 - lr: 0.0010\n",
      "Epoch 56/100\n"
     ]
    },
    {
     "name": "stdout",
     "output_type": "stream",
     "text": [
      "6/6 [==============================] - 0s 12ms/step - loss: 0.6245 - accuracy: 0.6848 - val_loss: 0.6498 - val_accuracy: 0.6190 - lr: 0.0010\n",
      "Epoch 57/100\n",
      "6/6 [==============================] - 0s 12ms/step - loss: 0.6170 - accuracy: 0.7091 - val_loss: 0.6479 - val_accuracy: 0.6429 - lr: 0.0010\n",
      "Epoch 58/100\n",
      "6/6 [==============================] - 0s 11ms/step - loss: 0.6315 - accuracy: 0.6909 - val_loss: 0.6464 - val_accuracy: 0.6429 - lr: 0.0010\n",
      "Epoch 59/100\n",
      "6/6 [==============================] - 0s 11ms/step - loss: 0.5978 - accuracy: 0.7273 - val_loss: 0.6445 - val_accuracy: 0.6429 - lr: 0.0010\n",
      "Epoch 60/100\n",
      "6/6 [==============================] - 0s 12ms/step - loss: 0.6191 - accuracy: 0.6485 - val_loss: 0.6432 - val_accuracy: 0.6429 - lr: 0.0010\n",
      "Epoch 61/100\n",
      "6/6 [==============================] - 0s 12ms/step - loss: 0.6106 - accuracy: 0.6970 - val_loss: 0.6423 - val_accuracy: 0.6429 - lr: 0.0010\n",
      "Epoch 62/100\n",
      "6/6 [==============================] - 0s 10ms/step - loss: 0.5851 - accuracy: 0.6970 - val_loss: 0.6402 - val_accuracy: 0.6667 - lr: 0.0010\n",
      "Epoch 63/100\n",
      "6/6 [==============================] - 0s 10ms/step - loss: 0.5935 - accuracy: 0.7091 - val_loss: 0.6385 - val_accuracy: 0.6667 - lr: 0.0010\n",
      "Epoch 64/100\n",
      "6/6 [==============================] - 0s 10ms/step - loss: 0.6016 - accuracy: 0.7273 - val_loss: 0.6367 - val_accuracy: 0.6667 - lr: 0.0010\n",
      "Epoch 65/100\n",
      "6/6 [==============================] - 0s 11ms/step - loss: 0.6081 - accuracy: 0.6909 - val_loss: 0.6350 - val_accuracy: 0.6905 - lr: 0.0010\n",
      "Epoch 66/100\n",
      "6/6 [==============================] - 0s 11ms/step - loss: 0.6306 - accuracy: 0.6545 - val_loss: 0.6337 - val_accuracy: 0.6905 - lr: 0.0010\n",
      "Epoch 67/100\n",
      "6/6 [==============================] - 0s 10ms/step - loss: 0.5878 - accuracy: 0.7273 - val_loss: 0.6320 - val_accuracy: 0.6905 - lr: 0.0010\n",
      "Epoch 68/100\n",
      "6/6 [==============================] - 0s 11ms/step - loss: 0.6303 - accuracy: 0.6606 - val_loss: 0.6299 - val_accuracy: 0.7143 - lr: 0.0010\n",
      "Epoch 69/100\n",
      "6/6 [==============================] - 0s 10ms/step - loss: 0.5798 - accuracy: 0.6970 - val_loss: 0.6286 - val_accuracy: 0.7143 - lr: 0.0010\n",
      "Epoch 70/100\n",
      "6/6 [==============================] - 0s 12ms/step - loss: 0.6204 - accuracy: 0.6485 - val_loss: 0.6283 - val_accuracy: 0.6905 - lr: 0.0010\n",
      "Epoch 71/100\n",
      "6/6 [==============================] - 0s 10ms/step - loss: 0.5643 - accuracy: 0.7273 - val_loss: 0.6283 - val_accuracy: 0.6905 - lr: 0.0010\n",
      "Epoch 72/100\n",
      "6/6 [==============================] - 0s 9ms/step - loss: 0.5651 - accuracy: 0.6970 - val_loss: 0.6284 - val_accuracy: 0.6905 - lr: 0.0010\n",
      "Epoch 73/100\n",
      "6/6 [==============================] - 0s 11ms/step - loss: 0.5617 - accuracy: 0.7455 - val_loss: 0.6274 - val_accuracy: 0.6905 - lr: 0.0010\n",
      "Epoch 74/100\n",
      "6/6 [==============================] - 0s 10ms/step - loss: 0.5925 - accuracy: 0.7333 - val_loss: 0.6268 - val_accuracy: 0.6905 - lr: 0.0010\n",
      "Epoch 75/100\n",
      "6/6 [==============================] - 0s 11ms/step - loss: 0.5953 - accuracy: 0.6909 - val_loss: 0.6261 - val_accuracy: 0.6905 - lr: 0.0010\n",
      "Epoch 76/100\n",
      "6/6 [==============================] - 0s 11ms/step - loss: 0.5667 - accuracy: 0.7394 - val_loss: 0.6248 - val_accuracy: 0.6905 - lr: 0.0010\n",
      "Epoch 77/100\n",
      "6/6 [==============================] - 0s 12ms/step - loss: 0.5717 - accuracy: 0.7212 - val_loss: 0.6229 - val_accuracy: 0.6905 - lr: 0.0010\n",
      "Epoch 78/100\n",
      "6/6 [==============================] - 0s 12ms/step - loss: 0.5896 - accuracy: 0.6606 - val_loss: 0.6226 - val_accuracy: 0.6905 - lr: 0.0010\n",
      "Epoch 79/100\n",
      "6/6 [==============================] - 0s 12ms/step - loss: 0.5955 - accuracy: 0.7212 - val_loss: 0.6243 - val_accuracy: 0.6905 - lr: 0.0010\n",
      "Epoch 80/100\n",
      "6/6 [==============================] - 0s 10ms/step - loss: 0.5845 - accuracy: 0.7576 - val_loss: 0.6250 - val_accuracy: 0.6905 - lr: 0.0010\n",
      "Epoch 81/100\n",
      "6/6 [==============================] - 0s 9ms/step - loss: 0.5354 - accuracy: 0.7455 - val_loss: 0.6243 - val_accuracy: 0.6905 - lr: 0.0010\n",
      "Epoch 82/100\n",
      "6/6 [==============================] - 0s 9ms/step - loss: 0.5631 - accuracy: 0.7394 - val_loss: 0.6242 - val_accuracy: 0.6905 - lr: 0.0010\n",
      "Epoch 83/100\n",
      "6/6 [==============================] - 0s 10ms/step - loss: 0.5772 - accuracy: 0.7273 - val_loss: 0.6231 - val_accuracy: 0.6905 - lr: 0.0010\n",
      "Epoch 84/100\n",
      "6/6 [==============================] - 0s 10ms/step - loss: 0.5638 - accuracy: 0.7030 - val_loss: 0.6228 - val_accuracy: 0.6905 - lr: 0.0010\n",
      "Epoch 85/100\n",
      "6/6 [==============================] - 0s 9ms/step - loss: 0.5773 - accuracy: 0.7152 - val_loss: 0.6237 - val_accuracy: 0.6905 - lr: 0.0010\n",
      "Epoch 86/100\n",
      "6/6 [==============================] - 0s 12ms/step - loss: 0.5548 - accuracy: 0.7394 - val_loss: 0.6222 - val_accuracy: 0.6905 - lr: 0.0010\n",
      "Epoch 87/100\n",
      "6/6 [==============================] - 0s 11ms/step - loss: 0.5887 - accuracy: 0.7273 - val_loss: 0.6201 - val_accuracy: 0.6905 - lr: 0.0010\n",
      "Epoch 88/100\n",
      "6/6 [==============================] - 0s 12ms/step - loss: 0.6026 - accuracy: 0.6727 - val_loss: 0.6178 - val_accuracy: 0.6905 - lr: 0.0010\n",
      "Epoch 89/100\n",
      "6/6 [==============================] - 0s 11ms/step - loss: 0.5869 - accuracy: 0.7091 - val_loss: 0.6173 - val_accuracy: 0.6905 - lr: 0.0010\n",
      "Epoch 90/100\n",
      "6/6 [==============================] - 0s 9ms/step - loss: 0.5844 - accuracy: 0.7212 - val_loss: 0.6175 - val_accuracy: 0.6905 - lr: 0.0010\n",
      "Epoch 91/100\n",
      "6/6 [==============================] - 0s 9ms/step - loss: 0.5701 - accuracy: 0.6909 - val_loss: 0.6195 - val_accuracy: 0.6905 - lr: 0.0010\n",
      "Epoch 92/100\n",
      "6/6 [==============================] - 0s 9ms/step - loss: 0.5758 - accuracy: 0.6970 - val_loss: 0.6215 - val_accuracy: 0.7143 - lr: 0.0010\n",
      "Epoch 93/100\n",
      "6/6 [==============================] - 0s 12ms/step - loss: 0.5582 - accuracy: 0.7576 - val_loss: 0.6204 - val_accuracy: 0.7143 - lr: 0.0010\n",
      "Epoch 94/100\n",
      "6/6 [==============================] - 0s 12ms/step - loss: 0.5763 - accuracy: 0.7212 - val_loss: 0.6192 - val_accuracy: 0.7143 - lr: 0.0010\n",
      "Epoch 95/100\n",
      "6/6 [==============================] - 0s 10ms/step - loss: 0.5327 - accuracy: 0.7333 - val_loss: 0.6174 - val_accuracy: 0.6905 - lr: 0.0010\n",
      "Epoch 96/100\n",
      "6/6 [==============================] - 0s 13ms/step - loss: 0.5802 - accuracy: 0.7515 - val_loss: 0.6161 - val_accuracy: 0.6905 - lr: 0.0010\n",
      "Epoch 97/100\n",
      "6/6 [==============================] - 0s 11ms/step - loss: 0.5606 - accuracy: 0.7515 - val_loss: 0.6148 - val_accuracy: 0.6905 - lr: 0.0010\n",
      "Epoch 98/100\n",
      "6/6 [==============================] - 0s 12ms/step - loss: 0.5481 - accuracy: 0.8061 - val_loss: 0.6144 - val_accuracy: 0.6905 - lr: 0.0010\n",
      "Epoch 99/100\n",
      "6/6 [==============================] - 0s 15ms/step - loss: 0.5475 - accuracy: 0.7576 - val_loss: 0.6129 - val_accuracy: 0.6905 - lr: 0.0010\n",
      "Epoch 100/100\n",
      "6/6 [==============================] - 0s 12ms/step - loss: 0.5381 - accuracy: 0.7273 - val_loss: 0.6116 - val_accuracy: 0.6905 - lr: 0.0010\n"
     ]
    }
   ],
   "source": [
    "\n",
    "#fitting the model\n",
    "\n",
    "history1 = model1.fit(X_train,y_train, epochs=100,\n",
    "validation_data=(X_valid,y_valid),callbacks = callbacks,verbose = 1\n",
    ")"
   ]
  },
  {
   "cell_type": "code",
   "execution_count": 133,
   "id": "584ddd50",
   "metadata": {},
   "outputs": [],
   "source": [
    "#loading best model\n",
    "model1 = keras.models.load_model(\"heart_disease_model.h5\")\n"
   ]
  },
  {
   "cell_type": "code",
   "execution_count": 134,
   "id": "89451d97",
   "metadata": {},
   "outputs": [
    {
     "name": "stdout",
     "output_type": "stream",
     "text": [
      "3/3 [==============================] - 0s 2ms/step - loss: 0.4716 - accuracy: 0.8000\n"
     ]
    },
    {
     "name": "stderr",
     "output_type": "stream",
     "text": [
      "D:\\Programming\\python\\my_ai_lab\\lib\\site-packages\\keras\\backend.py:5673: UserWarning: \"`binary_crossentropy` received `from_logits=True`, but the `output` argument was produced by a Sigmoid activation and thus does not represent logits. Was this intended?\n",
      "  output, from_logits = _get_logits(\n"
     ]
    },
    {
     "data": {
      "text/plain": [
       "[0.47158128023147583, 0.800000011920929]"
      ]
     },
     "execution_count": 134,
     "metadata": {},
     "output_type": "execute_result"
    }
   ],
   "source": [
    "#evaluating the model\n",
    "model1.evaluate(X_test, y_test)"
   ]
  },
  {
   "cell_type": "code",
   "execution_count": 135,
   "id": "0ecc85c1",
   "metadata": {},
   "outputs": [
    {
     "data": {
      "image/png": "[encoded data removed]",
      "text/plain": [
       "<Figure size 800x500 with 1 Axes>"
      ]
     },
     "metadata": {},
     "output_type": "display_data"
    }
   ],
   "source": [
    "import matplotlib.pyplot as plt\n",
    "pd.DataFrame(history1.history).plot(figsize=(8, 5))\n",
    "plt.grid(True)\n",
    "plt.gca().set_ylim(0, 1) # set the vertical range to [0-1]\n",
    "plt.show()"
   ]
  },
  {
   "cell_type": "code",
   "execution_count": 136,
   "id": "b5be73a2",
   "metadata": {},
   "outputs": [
    {
     "data": {
      "image/png": "[encoded data removed]",
      "text/plain": [
       "<Figure size 640x480 with 1 Axes>"
      ]
     },
     "metadata": {},
     "output_type": "display_data"
    },
    {
     "name": "stdout",
     "output_type": "stream",
     "text": [
      "model training - finished\n"
     ]
    }
   ],
   "source": [
    "plt.plot(history1.history['accuracy'])\n",
    "plt.show()\n",
    "print (\"model training - finished\")"
   ]
  },
  {
   "cell_type": "code",
   "execution_count": 86,
   "id": "bf82ae3d",
   "metadata": {},
   "outputs": [
    {
     "name": "stdout",
     "output_type": "stream",
     "text": [
      "3/3 [==============================] - 0s 2ms/step - loss: 0.4218 - accuracy: 0.8333\n"
     ]
    },
    {
     "data": {
      "text/plain": [
       "[0.42177098989486694, 0.8333333134651184]"
      ]
     },
     "execution_count": 86,
     "metadata": {},
     "output_type": "execute_result"
    }
   ],
   "source": []
  }
 ],
 "metadata": {
  "kernelspec": {
   "display_name": "Python 3 (ipykernel)",
   "language": "python",
   "name": "python3"
  },
  "language_info": {
   "codemirror_mode": {
    "name": "ipython",
    "version": 3
   },
   "file_extension": ".py",
   "mimetype": "text/x-python",
   "name": "python",
   "nbconvert_exporter": "python",
   "pygments_lexer": "ipython3",
   "version": "3.9.13"
  }
 },
 "nbformat": 4,
 "nbformat_minor": 5
}
